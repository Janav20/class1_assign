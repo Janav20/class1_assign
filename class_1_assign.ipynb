{
  "nbformat": 4,
  "nbformat_minor": 0,
  "metadata": {
    "colab": {
      "provenance": [],
      "include_colab_link": true
    },
    "kernelspec": {
      "name": "python3",
      "display_name": "Python 3"
    },
    "language_info": {
      "name": "python"
    }
  },
  "cells": [
    {
      "cell_type": "markdown",
      "metadata": {
        "id": "view-in-github",
        "colab_type": "text"
      },
      "source": [
        "<a href=\"https://colab.research.google.com/github/Janav20/class1_assign/blob/main/class_1_assign.ipynb\" target=\"_parent\"><img src=\"https://colab.research.google.com/assets/colab-badge.svg\" alt=\"Open In Colab\"/></a>"
      ]
    },
    {
      "cell_type": "code",
      "execution_count": null,
      "metadata": {
        "colab": {
          "base_uri": "https://localhost:8080/"
        },
        "id": "77VMQa6qbIQ4",
        "outputId": "d0602bc4-d331-4069-ac76-7e38f8a8bac9"
      },
      "outputs": [
        {
          "output_type": "stream",
          "name": "stdout",
          "text": [
            "Hello World!\n"
          ]
        }
      ],
      "source": [
        "print(\"Hello World!\") #basic print"
      ]
    },
    {
      "cell_type": "code",
      "source": [
        "cost=8000\n",
        "n=21\n",
        "c_person=255\n",
        "total=n*c_person\n",
        "profit=total-cost\n",
        "print(profit)"
      ],
      "metadata": {
        "colab": {
          "base_uri": "https://localhost:8080/"
        },
        "id": "aRxVM489bPaz",
        "outputId": "7e185246-93dd-420e-ae79-a07e3153ed75"
      },
      "execution_count": null,
      "outputs": [
        {
          "output_type": "stream",
          "name": "stdout",
          "text": [
            "-2645\n"
          ]
        }
      ]
    },
    {
      "cell_type": "code",
      "source": [
        "#use if-else statements and print out the required information:\n",
        "num= 1212\n",
        "#complete this area\n",
        "if num%12==0 and num%7==0:\n",
        "  print(\"no. is divisible by 12 and 7\")\n",
        "elif num%12==0:\n",
        "  print(\"no. is divisible by 12\")\n",
        "elif num%7==0:\n",
        "  print(\"no. is divisible by 7\")\n",
        "else:\n",
        "  print(\"no not divisible by both 12 and 7\")\n"
      ],
      "metadata": {
        "colab": {
          "base_uri": "https://localhost:8080/"
        },
        "id": "DHR3yI8WbUnb",
        "outputId": "b9cae47d-9cb9-49b0-e584-71f2954b7af6"
      },
      "execution_count": null,
      "outputs": [
        {
          "output_type": "stream",
          "name": "stdout",
          "text": [
            "no. is divisible by 12\n"
          ]
        }
      ]
    },
    {
      "cell_type": "code",
      "source": [
        "str=\"CAT IS UNDER THE TABLE\"\n",
        "cnt=0\n",
        "for i in str:\n",
        "  if i=='A' or i=='E' or i=='I' or i=='O' or i=='U':\n",
        "    cnt=cnt+1\n",
        "print(\"no of vowels in the string is = \",cnt)"
      ],
      "metadata": {
        "colab": {
          "base_uri": "https://localhost:8080/"
        },
        "id": "gXEnEU2HbcR1",
        "outputId": "35645db2-a731-4344-91a5-375adfb3e53d"
      },
      "execution_count": null,
      "outputs": [
        {
          "output_type": "stream",
          "name": "stdout",
          "text": [
            "no of vowels in the string is =  7\n"
          ]
        }
      ]
    },
    {
      "cell_type": "code",
      "source": [
        "#Define a random list of fruits \n",
        "l=['apple','orange','pear']\n",
        "#iterate over the list and find the name of the fruit which has the smallest word length\n",
        "min=0\n",
        "for i in l:\n",
        "  x=len(i)\n",
        "  if x<min:\n",
        "    min=x\n",
        "    smallest_word=i\n",
        "print(\"the word having the smallest length is:\",i)\n",
        "# append a vegetable to your existing list\n",
        "l.append('banana')\n",
        "print(l)\n",
        "# find the size of your list\n",
        "print(\"size of the list is:\",len(l))\n",
        "# add enough fruits such that your list size if greater that 4\n",
        "l.append('pineapple')\n",
        "print(l)\n",
        "# delete the 2nd fruit(1st index) from your list:\n",
        "l.pop(1)\n",
        "print(l)\n",
        "# add your name in the 4th position of the list (3rd index)\n",
        "l.insert(3,'JANAV')\n",
        "print(l)"
      ],
      "metadata": {
        "colab": {
          "base_uri": "https://localhost:8080/"
        },
        "id": "8krLQsthbyHg",
        "outputId": "a3157d52-864f-43b5-e98f-29b9a9d54760"
      },
      "execution_count": null,
      "outputs": [
        {
          "output_type": "stream",
          "name": "stdout",
          "text": [
            "the word having the smallest length is: pear\n",
            "['apple', 'orange', 'pear', 'banana']\n",
            "size of the list is: 4\n",
            "['apple', 'orange', 'pear', 'banana', 'pineapple']\n",
            "['apple', 'pear', 'banana', 'pineapple']\n",
            "['apple', 'pear', 'banana', 'JANAV', 'pineapple']\n"
          ]
        }
      ]
    },
    {
      "cell_type": "code",
      "source": [
        "#create abd tuple and print its elements \n",
        "abd=(10,20,30,40,50,'a','abcd',1.55)\n",
        "#print the type of each value in the tuple\n",
        "for i in abd:\n",
        "  print(type(i))\n",
        "#try to change the second value in your tuple to \"Caterpillar\"\n",
        "x=list(abd)\n",
        "x[1]=\"Caterpillar\"\n",
        "abd=tuple(x)\n",
        "print(abd)\n",
        "# print the last element of the tuple without using the length of the tuple\n",
        "print(abd[-1])\n",
        "\n",
        "print(abd[::-1])#prints in reverse order\n",
        "print(abd[1:])#prints from the 2nd element/or the 1st index\n",
        "print(abd[:-1])#prints all the elements except the last element(i.e.2nd parameter is the last index(which is not included)) \n",
        "print(abd[-2:])#prints from the last 2nd index till the end of the string\n",
        "print(abd[:5])#prints from 0th index to the 4th index\n",
        "x=[5,3,4,1,2]\n",
        "print(sorted(x))\n",
        "print(x)#when this statement is executed, we see that the original tuple(datatype) has not been changed\n",
        "x.sort()\n",
        "print(x)#here we see that the datatype itself has been sorted"
      ],
      "metadata": {
        "colab": {
          "base_uri": "https://localhost:8080/"
        },
        "id": "_F7xA3lcb7mU",
        "outputId": "5dc79dd4-40bc-42fc-95d8-7d4e4a1582c4"
      },
      "execution_count": null,
      "outputs": [
        {
          "output_type": "stream",
          "name": "stdout",
          "text": [
            "<class 'int'>\n",
            "<class 'int'>\n",
            "<class 'int'>\n",
            "<class 'int'>\n",
            "<class 'int'>\n",
            "<class 'str'>\n",
            "<class 'str'>\n",
            "<class 'float'>\n",
            "(10, 'Caterpillar', 30, 40, 50, 'a', 'abcd', 1.55)\n",
            "1.55\n",
            "(1.55, 'abcd', 'a', 50, 40, 30, 'Caterpillar', 10)\n",
            "('Caterpillar', 30, 40, 50, 'a', 'abcd', 1.55)\n",
            "(10, 'Caterpillar', 30, 40, 50, 'a', 'abcd')\n",
            "('abcd', 1.55)\n",
            "(10, 'Caterpillar', 30, 40, 50)\n",
            "[1, 2, 3, 4, 5]\n",
            "[5, 3, 4, 1, 2]\n",
            "[1, 2, 3, 4, 5]\n"
          ]
        }
      ]
    },
    {
      "cell_type": "code",
      "source": [
        "#explore the properties of set and after doing that solve this little puzzle below:"
      ],
      "metadata": {
        "id": "ktfTpeDucD1r"
      },
      "execution_count": null,
      "outputs": []
    },
    {
      "cell_type": "code",
      "source": [
        "#solve the above problem and help ana do her work she may even hire you as her assistant!!!\n",
        "str=\"i'm a  student of pes university\"\n",
        "x=set(str.split())\n",
        "print(x)"
      ],
      "metadata": {
        "colab": {
          "base_uri": "https://localhost:8080/"
        },
        "id": "F4M74umPcIJc",
        "outputId": "2919c0ea-16b4-404e-85a1-2d956486b1f7"
      },
      "execution_count": null,
      "outputs": [
        {
          "output_type": "stream",
          "name": "stdout",
          "text": [
            "{'university', 'of', 'pes', \"i'm\", 'student', 'a'}\n"
          ]
        }
      ]
    },
    {
      "cell_type": "code",
      "source": [
        "# Python program to count the frequency of\n",
        "# elements in a list using a dictionary\n",
        " \n",
        "def CountFrequency(my_list):\n",
        " \n",
        "    # Creating an empty dictionary\n",
        "    freq = {}\n",
        "    #------fill your code here-----------------\n",
        "    for i in my_list:\n",
        "      if i in freq:\n",
        "        freq[i]+=1\n",
        "      else:\n",
        "        freq[i]=1\n",
        "    print(freq)\n",
        "# Driver function\n",
        "if __name__ == \"__main__\":\n",
        "    my_list =[12,12,13,12,11,1,23,1,7,1,12,8,1,9,12]\n",
        " \n",
        "    CountFrequency(my_list)"
      ],
      "metadata": {
        "colab": {
          "base_uri": "https://localhost:8080/"
        },
        "id": "AoMqx4SocL05",
        "outputId": "63c6f697-d2a6-4034-dcb5-3501ec17a226"
      },
      "execution_count": null,
      "outputs": [
        {
          "output_type": "stream",
          "name": "stdout",
          "text": [
            "{12: 5, 13: 1, 11: 1, 1: 4, 23: 1, 7: 1, 8: 1, 9: 1}\n"
          ]
        }
      ]
    },
    {
      "cell_type": "code",
      "source": [],
      "metadata": {
        "id": "OzJWsR9scjtC"
      },
      "execution_count": null,
      "outputs": []
    }
  ]
}